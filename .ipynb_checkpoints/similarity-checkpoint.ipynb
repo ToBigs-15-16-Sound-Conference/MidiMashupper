{
 "cells": [
  {
   "cell_type": "code",
   "execution_count": 8,
   "id": "e0a48232",
   "metadata": {},
   "outputs": [],
   "source": [
    "import numpy as np\n",
    "import pandas as pd\n",
    "import matplotlib.pyplot as plt\n",
    "import os\n",
    "import music21\n",
    "from music21 import *\n",
    "import matplotlib.pyplot as plt\n",
    "import seaborn as sns\n",
    "from scipy.sparse import csc_matrix\n",
    "import zipfile\n",
    "\n",
    "from components.utils import *\n",
    "from components.utils_old import * \n",
    "#from components.util import * \n",
    "#from components.const import * \n"
   ]
  },
  {
   "cell_type": "markdown",
   "id": "a5576dd7",
   "metadata": {},
   "source": [
    "## 데이터 형식 \n",
    "\n",
    "(마디, 트랙, 마디당 틱, 피치)으로 되어 있습니다. "
   ]
  },
  {
   "cell_type": "code",
   "execution_count": 12,
   "id": "9364d245",
   "metadata": {},
   "outputs": [],
   "source": [
    "song1 = load_as_np(\"../test/IBelieveICanFly.mid\")"
   ]
  },
  {
   "cell_type": "code",
   "execution_count": 13,
   "id": "27abc130",
   "metadata": {},
   "outputs": [
    {
     "data": {
      "text/plain": [
       "(80, 5, 16, 72)"
      ]
     },
     "execution_count": 13,
     "metadata": {},
     "output_type": "execute_result"
    }
   ],
   "source": [
    "song1.shape"
   ]
  },
  {
   "cell_type": "code",
   "execution_count": 14,
   "id": "3de22df0",
   "metadata": {},
   "outputs": [],
   "source": [
    "song2 = load_as_np(\"../test_mid/DontLookBackinAnger.mid\")"
   ]
  },
  {
   "cell_type": "code",
   "execution_count": 15,
   "id": "daf64b5b",
   "metadata": {},
   "outputs": [
    {
     "data": {
      "text/plain": [
       "(97, 5, 16, 72)"
      ]
     },
     "execution_count": 15,
     "metadata": {},
     "output_type": "execute_result"
    }
   ],
   "source": [
    "song2.shape"
   ]
  },
  {
   "cell_type": "markdown",
   "id": "18055ca4",
   "metadata": {},
   "source": [
    "## 유사도 구하기\n",
    "\n",
    "- 총 두가지 function으로 이루어져 있습니다. 1.분포를 기반으로한 유사도, 2.Dynamic Time warping을 이용한 유사도\n",
    "- (마디, 트랙, 마디당 틱, 피치) 로 유사도를 구했기 때문에 실제 모델에 사용되는 idx를 구하려면 함수의 return값에 x16을 해주시면 됩니다."
   ]
  },
  {
   "cell_type": "code",
   "execution_count": 17,
   "id": "8c515f9c",
   "metadata": {},
   "outputs": [
    {
     "name": "stdout",
     "output_type": "stream",
     "text": [
      "Wall time: 2.64 s\n"
     ]
    }
   ],
   "source": [
    "%%time\n",
    "candidate_dist = get_distribution_similairy(path1 =\"../test/IBelieveICanFly.mid\", path2 = \"../test_mid/DontLookBackinAnger.mid\")"
   ]
  },
  {
   "cell_type": "code",
   "execution_count": 18,
   "id": "5b3f80ec",
   "metadata": {},
   "outputs": [
    {
     "name": "stdout",
     "output_type": "stream",
     "text": [
      "Wall time: 1min 1s\n"
     ]
    }
   ],
   "source": [
    "%%time\n",
    "candidate_dtw = get_dtw_similairy(path1 =\"../test/IBelieveICanFly.mid\", path2 = \"../test_mid/DontLookBackinAnger.mid\")"
   ]
  },
  {
   "cell_type": "code",
   "execution_count": 19,
   "id": "b0b12c37",
   "metadata": {},
   "outputs": [
    {
     "data": {
      "text/plain": [
       "[((21, 52), 0.8898908019065856),\n",
       " ((9, 52), 0.8880526423454285),\n",
       " ((59, 52), 0.8856395840644837),\n",
       " ((32, 52), 0.8821313619613647),\n",
       " ((36, 52), 0.8812544345855713),\n",
       " ((21, 55), 0.8783557295799256),\n",
       " ((43, 21), 0.8770238995552063),\n",
       " ((21, 21), 0.8770118474960327),\n",
       " ((43, 53), 0.8769598841667174),\n",
       " ((9, 55), 0.8768123269081116)]"
      ]
     },
     "execution_count": 19,
     "metadata": {},
     "output_type": "execute_result"
    }
   ],
   "source": [
    "candidate_dist"
   ]
  },
  {
   "cell_type": "code",
   "execution_count": 20,
   "id": "a276a146",
   "metadata": {},
   "outputs": [
    {
     "data": {
      "text/plain": [
       "[((7, 94), 167.15470855059593),\n",
       " ((3, 94), 194.95752543693484),\n",
       " ((3, 95), 196.45821108145634),\n",
       " ((8, 94), 203.1613642007256),\n",
       " ((5, 93), 207.5182677559905),\n",
       " ((6, 95), 208.22156050637605),\n",
       " ((1, 94), 208.31224033306148),\n",
       " ((7, 10), 209.3449433296114),\n",
       " ((7, 41), 209.3449433296114),\n",
       " ((2, 94), 210.95527132250027)]"
      ]
     },
     "execution_count": 20,
     "metadata": {},
     "output_type": "execute_result"
    }
   ],
   "source": [
    "candidate_dtw"
   ]
  }
 ],
 "metadata": {
  "kernelspec": {
   "display_name": "Python 3",
   "language": "python",
   "name": "python3"
  },
  "language_info": {
   "codemirror_mode": {
    "name": "ipython",
    "version": 3
   },
   "file_extension": ".py",
   "mimetype": "text/x-python",
   "name": "python",
   "nbconvert_exporter": "python",
   "pygments_lexer": "ipython3",
   "version": "3.8.8"
  }
 },
 "nbformat": 4,
 "nbformat_minor": 5
}
